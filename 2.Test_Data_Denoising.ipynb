{
 "cells": [
  {
   "cell_type": "code",
   "execution_count": 2,
   "id": "8baab2e8",
   "metadata": {},
   "outputs": [],
   "source": [
    "import cv2\n",
    "import os\n",
    "from PIL import Image, ImageFilter, ImageEnhance\n",
    "import pandas as pd\n",
    "\n",
    "def Data_Denoising(input_location,output_location):\n",
    "    file_path = input_location\n",
    "    file_list = os.listdir(file_path)\n",
    "    for i,v in enumerate((file_list)):\n",
    "        if file_list[i][-3:] == 'png':\n",
    "            img = cv2.imread(file_path+file_list[i])\n",
    "            noise_removal = cv2.fastNlMeansDenoisingColored(img,None,10,10,7,21)\n",
    "            #os.remove(file_path+file_list[i])\n",
    "            cv2.imwrite(output_location+ file_list[i], noise_removal)\n",
    "    return\n",
    "\n",
    "\n",
    "file_path = '../datasets/test/01/'\n",
    "output_path = '../datasets/test1/01/'\n",
    "file_list = os.listdir(output_path)\n",
    "\n",
    "Data_Denoising(file_path,output_path)\n",
    "\n",
    "\n",
    "\n",
    "    \n",
    "file_path = '../datasets/test/02/'\n",
    "output_path = '../datasets/test1/02/'\n",
    "file_list = os.listdir(output_path)\n",
    "\n",
    "Data_Denoising(file_path,output_path)\n",
    "\n",
    "\n",
    "\n",
    "    \n",
    "file_path = '../datasets/test/03/'\n",
    "output_path = '../datasets/test1/03/'\n",
    "file_list = os.listdir(output_path)\n",
    "\n",
    "Data_Denoising(file_path,output_path)\n",
    "\n"
   ]
  }
 ],
 "metadata": {
  "kernelspec": {
   "display_name": "Python 3 (ipykernel)",
   "language": "python",
   "name": "python3"
  },
  "language_info": {
   "codemirror_mode": {
    "name": "ipython",
    "version": 3
   },
   "file_extension": ".py",
   "mimetype": "text/x-python",
   "name": "python",
   "nbconvert_exporter": "python",
   "pygments_lexer": "ipython3",
   "version": "3.9.7"
  }
 },
 "nbformat": 4,
 "nbformat_minor": 5
}
