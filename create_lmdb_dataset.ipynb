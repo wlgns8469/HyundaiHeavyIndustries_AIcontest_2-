{
 "cells": [
  {
   "cell_type": "code",
   "execution_count": 1,
   "id": "4ef43833",
   "metadata": {},
   "outputs": [],
   "source": [
    "\"\"\" a modified version of CRNN torch repository https://github.com/bgshih/crnn/blob/master/tool/create_dataset.py \"\"\"\n",
    "\n",
    "import fire\n",
    "import os\n",
    "import lmdb\n",
    "import cv2\n",
    "\n",
    "import numpy as np"
   ]
  },
  {
   "cell_type": "code",
   "execution_count": 5,
   "id": "e2633659",
   "metadata": {},
   "outputs": [],
   "source": [
    "def checkImageIsValid(imageBin):\n",
    "    if imageBin is None:\n",
    "        return False\n",
    "    imageBuf = np.frombuffer(imageBin, dtype=np.uint8)\n",
    "    img = cv2.imdecode(imageBuf, cv2.IMREAD_GRAYSCALE)\n",
    "    imgH, imgW = img.shape[0], img.shape[1]\n",
    "    if imgH * imgW == 0:\n",
    "        return False\n",
    "    return True\n",
    "\n",
    "\n",
    "def writeCache(env, cache):\n",
    "    with env.begin(write=True) as txn:\n",
    "        for k, v in cache.items():\n",
    "            txn.put(k, v)\n",
    "\n",
    "\n",
    "def createDataset(inputPath, gtFile, outputPath, checkValid=True):\n",
    "    \"\"\"\n",
    "    Create LMDB dataset for training and evaluation.\n",
    "    ARGS:\n",
    "        inputPath  : input folder path where starts imagePath\n",
    "        outputPath : LMDB output path\n",
    "        gtFile     : list of image path and label\n",
    "        checkValid : if true, check the validity of every image\n",
    "    \"\"\"\n",
    "    os.makedirs(outputPath, exist_ok=True)\n",
    "    env = lmdb.open(outputPath, map_size=1099511600)\n",
    "    cache = {}\n",
    "    cnt = 1\n",
    "\n",
    "    with open(gtFile, 'r', encoding='utf-8') as data:\n",
    "        datalist = data.readlines()\n",
    "\n",
    "    nSamples = len(datalist)\n",
    "    for i in range(nSamples):\n",
    "        imagePath, label = datalist[i].strip('\\n').split('\\t')\n",
    "        imagePath = os.path.join(inputPath, imagePath)\n",
    "\n",
    "        # # only use alphanumeric data\n",
    "        # if re.search('[^a-zA-Z0-9]', label):\n",
    "        #     continue\n",
    "\n",
    "        if not os.path.exists(imagePath):\n",
    "            print('%s does not exist' % imagePath)\n",
    "            continue\n",
    "        with open(imagePath, 'rb') as f:\n",
    "            imageBin = f.read()\n",
    "        if checkValid:\n",
    "            try:\n",
    "                if not checkImageIsValid(imageBin):\n",
    "                    print('%s is not a valid image' % imagePath)\n",
    "                    continue\n",
    "            except:\n",
    "                print('error occured', i)\n",
    "                with open(outputPath + '/error_image_log.txt', 'a') as log:\n",
    "                    log.write('%s-th image data occured error\\n' % str(i))\n",
    "                continue\n",
    "\n",
    "        imageKey = 'image-%09d'.encode() % cnt\n",
    "        labelKey = 'label-%09d'.encode() % cnt\n",
    "        cache[imageKey] = imageBin\n",
    "        cache[labelKey] = label.encode()\n",
    "\n",
    "        if cnt % 1000 == 0:\n",
    "            writeCache(env, cache)\n",
    "            cache = {}\n",
    "            print('Written %d / %d' % (cnt, nSamples))\n",
    "        cnt += 1\n",
    "    nSamples = cnt-1\n",
    "    cache['num-samples'.encode()] = str(nSamples).encode()\n",
    "    writeCache(env, cache)\n",
    "    print('Created dataset with %d samples' % nSamples)"
   ]
  },
  {
   "cell_type": "code",
   "execution_count": 3,
   "id": "70ffa766",
   "metadata": {},
   "outputs": [
    {
     "name": "stdout",
     "output_type": "stream",
     "text": [
      "Written 1000 / 2990\n",
      "Written 2000 / 2990\n",
      "Created dataset with 2990 samples\n",
      "Created dataset with 748 samples\n"
     ]
    }
   ],
   "source": [
    "createDataset(inputPath=\"../datasets/split/train/01/\", gtFile=\"../datasets/split/train/01/gt_train_01.txt\",\n",
    "              outputPath = \"../datasets/forTrainingData/train/01\")\n",
    "createDataset(inputPath=\"../datasets/split/val/01/\", gtFile=\"../datasets/split/val/01/gt_val_01.txt\",\n",
    "              outputPath = \"../datasets/forTrainingData/val/01\")"
   ]
  },
  {
   "cell_type": "code",
   "execution_count": 6,
   "id": "ff6734c2",
   "metadata": {},
   "outputs": [
    {
     "name": "stdout",
     "output_type": "stream",
     "text": [
      "Written 1000 / 2872\n",
      "Written 2000 / 2872\n",
      "Created dataset with 2872 samples\n",
      "Created dataset with 718 samples\n"
     ]
    }
   ],
   "source": [
    "createDataset(inputPath=\"../datasets/split/train/02/\", gtFile=\"../datasets/split/train/02/gt_train_02.txt\",\n",
    "              outputPath = \"../datasets/forTrainingData/train/02\")\n",
    "createDataset(inputPath=\"../datasets/split/val/02/\", gtFile=\"../datasets/split/val/02/gt_val_02.txt\",\n",
    "              outputPath = \"../datasets/forTrainingData/val/02\")"
   ]
  },
  {
   "cell_type": "code",
   "execution_count": 7,
   "id": "ebb46f05",
   "metadata": {},
   "outputs": [
    {
     "name": "stdout",
     "output_type": "stream",
     "text": [
      "Created dataset with 240 samples\n",
      "Created dataset with 60 samples\n"
     ]
    }
   ],
   "source": [
    "createDataset(inputPath=\"../datasets/split/train/03/\", gtFile=\"../datasets/split/train/03/gt_train_03.txt\",\n",
    "              outputPath = \"../datasets/forTrainingData/train/03\")\n",
    "createDataset(inputPath=\"../datasets/split/val/03/\", gtFile=\"../datasets/split/val/03/gt_val_03.txt\",\n",
    "              outputPath = \"../datasets/forTrainingData/val/03\")"
   ]
  },
  {
   "cell_type": "code",
   "execution_count": null,
   "id": "ccbdeeec",
   "metadata": {},
   "outputs": [],
   "source": []
  }
 ],
 "metadata": {
  "kernelspec": {
   "display_name": "Python 3 (ipykernel)",
   "language": "python",
   "name": "python3"
  },
  "language_info": {
   "codemirror_mode": {
    "name": "ipython",
    "version": 3
   },
   "file_extension": ".py",
   "mimetype": "text/x-python",
   "name": "python",
   "nbconvert_exporter": "python",
   "pygments_lexer": "ipython3",
   "version": "3.9.7"
  }
 },
 "nbformat": 4,
 "nbformat_minor": 5
}
