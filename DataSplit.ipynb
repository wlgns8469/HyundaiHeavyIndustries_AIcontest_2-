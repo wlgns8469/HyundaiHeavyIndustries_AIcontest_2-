{
 "cells": [
  {
   "cell_type": "code",
   "execution_count": 11,
   "id": "bb1ed165",
   "metadata": {},
   "outputs": [],
   "source": [
    "import os\n",
    "import cv2 as cv\n",
    "import pandas as pd\n",
    "from sklearn.model_selection import train_test_split"
   ]
  },
  {
   "cell_type": "markdown",
   "id": "05554f49",
   "metadata": {},
   "source": [
    "# Class 01"
   ]
  },
  {
   "cell_type": "code",
   "execution_count": 12,
   "id": "420da4b9",
   "metadata": {},
   "outputs": [],
   "source": [
    "filepath = \"../datasets/train/01\"\n",
    "filename = os.listdir(filepath)"
   ]
  },
  {
   "cell_type": "code",
   "execution_count": 13,
   "id": "1d42dbb6",
   "metadata": {},
   "outputs": [
    {
     "name": "stdout",
     "output_type": "stream",
     "text": [
      "                 0     1\n",
      "0     000000_0.png  4802\n",
      "1     000000_1.png  4401\n",
      "2     000000_2.png  3701\n",
      "3     000000_4.png  9901\n",
      "4     000000_5.png  4801\n",
      "...            ...   ...\n",
      "3733  001823_3.png  4303\n",
      "3734  001824_0.png  3801\n",
      "3735  001825_0.png  9901\n",
      "3736  001825_1.png  0705\n",
      "3737  001825_2.png  5301\n",
      "\n",
      "[3738 rows x 2 columns]\n"
     ]
    }
   ],
   "source": [
    "gt = pd.read_csv(filepath + \"/\" + \"gt_train_01.txt\", sep=\"\\t\", header = None)\n",
    "print(gt)"
   ]
  },
  {
   "cell_type": "code",
   "execution_count": 14,
   "id": "a7431662",
   "metadata": {},
   "outputs": [
    {
     "data": {
      "text/plain": [
       "3738"
      ]
     },
     "execution_count": 14,
     "metadata": {},
     "output_type": "execute_result"
    }
   ],
   "source": [
    "images = []\n",
    "for i in range(len(gt)):\n",
    "    images.append(cv.imread(filepath + \"/\" + gt.iloc[i][0]))\n",
    "len(images)"
   ]
  },
  {
   "cell_type": "code",
   "execution_count": 15,
   "id": "f971e0d0",
   "metadata": {},
   "outputs": [
    {
     "name": "stdout",
     "output_type": "stream",
     "text": [
      "2990 748\n"
     ]
    }
   ],
   "source": [
    "train, test, name_train, name_test = train_test_split(images, gt, test_size=0.2, random_state=123)\n",
    "print(len(train), len(test))"
   ]
  },
  {
   "cell_type": "code",
   "execution_count": 17,
   "id": "a9a8ff43",
   "metadata": {},
   "outputs": [],
   "source": [
    "for i in range(len(train)):\n",
    "    cv.imwrite('../datasets/split/train/01/' + name_train.iloc[i][0] ,train[i])\n",
    "name_train.to_csv(\"../datasets/split/train/01/gt_train_01.txt\", sep = \"\\t\", index = False, header=False)\n",
    "    \n",
    "for i in range(len(test)):\n",
    "    cv.imwrite('../datasets/split/val/01/' + name_test.iloc[i][0] ,test[i])\n",
    "name_test.to_csv(\"../datasets/split/val/01/gt_val_01.txt\", sep = \"\\t\", index = False, header=False)"
   ]
  },
  {
   "cell_type": "markdown",
   "id": "03103715",
   "metadata": {},
   "source": [
    "# Class 02"
   ]
  },
  {
   "cell_type": "code",
   "execution_count": 18,
   "id": "6ca12622",
   "metadata": {},
   "outputs": [],
   "source": [
    "filepath = \"../datasets/train/02\"\n",
    "filename = os.listdir(filepath)"
   ]
  },
  {
   "cell_type": "code",
   "execution_count": 19,
   "id": "e614c129",
   "metadata": {},
   "outputs": [
    {
     "name": "stdout",
     "output_type": "stream",
     "text": [
      "                 0           1\n",
      "0     000000_0.png           X\n",
      "1     000000_1.png   995E36T39\n",
      "2     000000_2.png  8094H21F39\n",
      "3     000000_3.png   983B74B16\n",
      "4     000001_0.png  8094D15A01\n",
      "...            ...         ...\n",
      "3989  001549_2.png   983D11F24\n",
      "3990  001549_3.png   994C32A08\n",
      "3991  001550_0.png  8109B61614\n",
      "3992  001550_1.png  8108B39N74\n",
      "3993  001551_0.png   994F32A09\n",
      "\n",
      "[3994 rows x 2 columns]\n"
     ]
    }
   ],
   "source": [
    "gt = pd.read_csv(filepath + \"/\" + \"gt_train_02.txt\", sep=\"\\t\", header = None)\n",
    "print(gt)"
   ]
  },
  {
   "cell_type": "code",
   "execution_count": 20,
   "id": "b46b8001",
   "metadata": {},
   "outputs": [],
   "source": [
    "gt_prepro = gt.drop(gt[gt[1]==\"X\"].index).reset_index(drop=True)"
   ]
  },
  {
   "cell_type": "code",
   "execution_count": 21,
   "id": "fc20143a",
   "metadata": {},
   "outputs": [
    {
     "data": {
      "text/plain": [
       "3590"
      ]
     },
     "execution_count": 21,
     "metadata": {},
     "output_type": "execute_result"
    }
   ],
   "source": [
    "images = []\n",
    "for i in range(len(gt_prepro)):\n",
    "    images.append(cv.imread(filepath + \"/\" + gt_prepro.iloc[i][0]))\n",
    "len(images)"
   ]
  },
  {
   "cell_type": "code",
   "execution_count": 22,
   "id": "230f2c74",
   "metadata": {},
   "outputs": [
    {
     "name": "stdout",
     "output_type": "stream",
     "text": [
      "2872 718\n"
     ]
    }
   ],
   "source": [
    "train, test, name_train, name_test = train_test_split(images, gt_prepro, test_size=0.2, random_state=123)\n",
    "print(len(train), len(test))"
   ]
  },
  {
   "cell_type": "code",
   "execution_count": 23,
   "id": "103d5039",
   "metadata": {},
   "outputs": [],
   "source": [
    "for i in range(len(train)):\n",
    "    cv.imwrite('../datasets/split/train/02/' + name_train.iloc[i][0] ,train[i])\n",
    "name_train.to_csv(\"../datasets/split/train/02/gt_train_02.txt\", sep = \"\\t\", index = False, header=False)\n",
    "    \n",
    "for i in range(len(test)):\n",
    "    cv.imwrite('../datasets/split/val/02/' + name_test.iloc[i][0] ,test[i])\n",
    "name_test.to_csv(\"../datasets/split/val/02/gt_val_02.txt\", sep = \"\\t\", index = False, header=False)\n"
   ]
  },
  {
   "cell_type": "markdown",
   "id": "306cd151",
   "metadata": {},
   "source": [
    "# Class 03"
   ]
  },
  {
   "cell_type": "code",
   "execution_count": 24,
   "id": "dd58228f",
   "metadata": {},
   "outputs": [],
   "source": [
    "filepath = \"../datasets/train/03\"\n",
    "filename = os.listdir(filepath)"
   ]
  },
  {
   "cell_type": "code",
   "execution_count": 25,
   "id": "cf432056",
   "metadata": {},
   "outputs": [
    {
     "name": "stdout",
     "output_type": "stream",
     "text": [
      "                                      0            1\n",
      "0    train/000419_1_deg_r90_bot_dst.png    995E21B59\n",
      "1    train/000419_1_deg_r90_top_dst.png  FB871874-01\n",
      "2    train/000419_2_deg_r90_bot_dst.png    994C51A20\n",
      "3    train/000419_2_deg_r90_top_dst.png  FB871038-03\n",
      "4    train/000419_3_deg_r90_bot_dst.png    994C50A20\n",
      "..                                  ...          ...\n",
      "295  train/000619_0_deg_r90_top_dst.png  FC361031-01\n",
      "296  train/000622_0_deg_r10_bot_dst.png   8109B42A11\n",
      "297  train/000622_0_deg_r10_top_dst.png  FC365970-02\n",
      "298  train/000622_1_deg_r10_bot_dst.png   8109B38A10\n",
      "299  train/000622_1_deg_r10_top_dst.png  FC365170-02\n",
      "\n",
      "[300 rows x 2 columns]\n"
     ]
    }
   ],
   "source": [
    "gt = pd.read_csv(filepath + \"/\" + \"gt_train_03.txt\", sep=\"\\t\", header = None)\n",
    "print(gt)"
   ]
  },
  {
   "cell_type": "code",
   "execution_count": 26,
   "id": "b4fb2942",
   "metadata": {},
   "outputs": [
    {
     "data": {
      "text/html": [
       "<div>\n",
       "<style scoped>\n",
       "    .dataframe tbody tr th:only-of-type {\n",
       "        vertical-align: middle;\n",
       "    }\n",
       "\n",
       "    .dataframe tbody tr th {\n",
       "        vertical-align: top;\n",
       "    }\n",
       "\n",
       "    .dataframe thead th {\n",
       "        text-align: right;\n",
       "    }\n",
       "</style>\n",
       "<table border=\"1\" class=\"dataframe\">\n",
       "  <thead>\n",
       "    <tr style=\"text-align: right;\">\n",
       "      <th></th>\n",
       "      <th>0</th>\n",
       "      <th>1</th>\n",
       "    </tr>\n",
       "  </thead>\n",
       "  <tbody>\n",
       "    <tr>\n",
       "      <th>0</th>\n",
       "      <td>train/000419_1_deg_r90_bot_dst.png</td>\n",
       "      <td>995E21B59</td>\n",
       "    </tr>\n",
       "    <tr>\n",
       "      <th>1</th>\n",
       "      <td>train/000419_1_deg_r90_top_dst.png</td>\n",
       "      <td>FB871874-01</td>\n",
       "    </tr>\n",
       "    <tr>\n",
       "      <th>2</th>\n",
       "      <td>train/000419_2_deg_r90_bot_dst.png</td>\n",
       "      <td>994C51A20</td>\n",
       "    </tr>\n",
       "    <tr>\n",
       "      <th>3</th>\n",
       "      <td>train/000419_2_deg_r90_top_dst.png</td>\n",
       "      <td>FB871038-03</td>\n",
       "    </tr>\n",
       "    <tr>\n",
       "      <th>4</th>\n",
       "      <td>train/000419_3_deg_r90_bot_dst.png</td>\n",
       "      <td>994C50A20</td>\n",
       "    </tr>\n",
       "    <tr>\n",
       "      <th>...</th>\n",
       "      <td>...</td>\n",
       "      <td>...</td>\n",
       "    </tr>\n",
       "    <tr>\n",
       "      <th>295</th>\n",
       "      <td>train/000619_0_deg_r90_top_dst.png</td>\n",
       "      <td>FC361031-01</td>\n",
       "    </tr>\n",
       "    <tr>\n",
       "      <th>296</th>\n",
       "      <td>train/000622_0_deg_r10_bot_dst.png</td>\n",
       "      <td>8109B42A11</td>\n",
       "    </tr>\n",
       "    <tr>\n",
       "      <th>297</th>\n",
       "      <td>train/000622_0_deg_r10_top_dst.png</td>\n",
       "      <td>FC365970-02</td>\n",
       "    </tr>\n",
       "    <tr>\n",
       "      <th>298</th>\n",
       "      <td>train/000622_1_deg_r10_bot_dst.png</td>\n",
       "      <td>8109B38A10</td>\n",
       "    </tr>\n",
       "    <tr>\n",
       "      <th>299</th>\n",
       "      <td>train/000622_1_deg_r10_top_dst.png</td>\n",
       "      <td>FC365170-02</td>\n",
       "    </tr>\n",
       "  </tbody>\n",
       "</table>\n",
       "<p>300 rows × 2 columns</p>\n",
       "</div>"
      ],
      "text/plain": [
       "                                      0            1\n",
       "0    train/000419_1_deg_r90_bot_dst.png    995E21B59\n",
       "1    train/000419_1_deg_r90_top_dst.png  FB871874-01\n",
       "2    train/000419_2_deg_r90_bot_dst.png    994C51A20\n",
       "3    train/000419_2_deg_r90_top_dst.png  FB871038-03\n",
       "4    train/000419_3_deg_r90_bot_dst.png    994C50A20\n",
       "..                                  ...          ...\n",
       "295  train/000619_0_deg_r90_top_dst.png  FC361031-01\n",
       "296  train/000622_0_deg_r10_bot_dst.png   8109B42A11\n",
       "297  train/000622_0_deg_r10_top_dst.png  FC365970-02\n",
       "298  train/000622_1_deg_r10_bot_dst.png   8109B38A10\n",
       "299  train/000622_1_deg_r10_top_dst.png  FC365170-02\n",
       "\n",
       "[300 rows x 2 columns]"
      ]
     },
     "execution_count": 26,
     "metadata": {},
     "output_type": "execute_result"
    }
   ],
   "source": [
    "gt_prepro = gt.drop(gt[gt[1]==\"X\"].index).reset_index(drop=True)\n",
    "gt_prepro"
   ]
  },
  {
   "cell_type": "code",
   "execution_count": 27,
   "id": "163d48eb",
   "metadata": {
    "scrolled": true
   },
   "outputs": [],
   "source": [
    "for i in range(len(gt_prepro)):\n",
    "    gt_prepro.iloc[i][0] = gt_prepro.iloc[i][0][6:]"
   ]
  },
  {
   "cell_type": "code",
   "execution_count": 28,
   "id": "bfc78972",
   "metadata": {},
   "outputs": [
    {
     "data": {
      "text/plain": [
       "300"
      ]
     },
     "execution_count": 28,
     "metadata": {},
     "output_type": "execute_result"
    }
   ],
   "source": [
    "images = []\n",
    "for i in range(len(gt_prepro)):\n",
    "    images.append(cv.imread(filepath + \"/\" + gt_prepro.iloc[i][0]))\n",
    "len(images)"
   ]
  },
  {
   "cell_type": "code",
   "execution_count": 29,
   "id": "cc81573c",
   "metadata": {},
   "outputs": [
    {
     "name": "stdout",
     "output_type": "stream",
     "text": [
      "240 60\n"
     ]
    }
   ],
   "source": [
    "train, test, name_train, name_test = train_test_split(images, gt_prepro, test_size=0.2, random_state=123)\n",
    "print(len(train), len(test))"
   ]
  },
  {
   "cell_type": "code",
   "execution_count": 30,
   "id": "b149f512",
   "metadata": {},
   "outputs": [],
   "source": [
    "for i in range(len(train)):\n",
    "    cv.imwrite('../datasets/split/train/03/' + name_train.iloc[i][0] ,train[i])\n",
    "name_train.to_csv(\"../datasets/split/train/03/gt_train_03.txt\", sep = \"\\t\", index = False, header=False)\n",
    "    \n",
    "for i in range(len(test)):\n",
    "    cv.imwrite('../datasets/split/val/03/' + name_test.iloc[i][0] ,test[i])\n",
    "name_test.to_csv(\"../datasets/split/val/03/gt_val_03.txt\", sep = \"\\t\", index = False, header=False)\n"
   ]
  },
  {
   "cell_type": "code",
   "execution_count": null,
   "id": "eab4db12",
   "metadata": {},
   "outputs": [],
   "source": []
  },
  {
   "cell_type": "code",
   "execution_count": null,
   "id": "457781c5",
   "metadata": {},
   "outputs": [],
   "source": []
  },
  {
   "cell_type": "code",
   "execution_count": null,
   "id": "6b69f28d",
   "metadata": {},
   "outputs": [],
   "source": []
  },
  {
   "cell_type": "code",
   "execution_count": null,
   "id": "7967b167",
   "metadata": {},
   "outputs": [],
   "source": []
  }
 ],
 "metadata": {
  "kernelspec": {
   "display_name": "Python 3 (ipykernel)",
   "language": "python",
   "name": "python3"
  },
  "language_info": {
   "codemirror_mode": {
    "name": "ipython",
    "version": 3
   },
   "file_extension": ".py",
   "mimetype": "text/x-python",
   "name": "python",
   "nbconvert_exporter": "python",
   "pygments_lexer": "ipython3",
   "version": "3.9.7"
  }
 },
 "nbformat": 4,
 "nbformat_minor": 5
}
