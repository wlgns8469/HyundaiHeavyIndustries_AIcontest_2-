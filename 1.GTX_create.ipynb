{
 "cells": [
  {
   "cell_type": "code",
   "execution_count": 1,
   "id": "9d5fc387",
   "metadata": {},
   "outputs": [],
   "source": [
    "import os\n",
    "import cv2 as cv\n",
    "import pandas as pd\n",
    "from sklearn.model_selection import train_test_split"
   ]
  },
  {
   "cell_type": "code",
   "execution_count": 2,
   "id": "096fc607",
   "metadata": {},
   "outputs": [],
   "source": [
    "filepath = \"../datasets/test/01\"\n",
    "filename = os.listdir(filepath)\n",
    "\n",
    "\n",
    "gt = pd.read_csv(filepath + \"/\" + \"gt_test_01.txt\", sep=\"\\t\", header = None)\n",
    "(gt[gt[1]==\"X\"].reset_index(drop=True)).to_csv('../datasets/test/01/GTX.txt', header=False)"
   ]
  },
  {
   "cell_type": "code",
   "execution_count": 3,
   "id": "3ade1456",
   "metadata": {},
   "outputs": [],
   "source": [
    "filepath = \"../datasets/test/02\"\n",
    "filename = os.listdir(filepath)\n",
    "\n",
    "gt = pd.read_csv(filepath + \"/\" + \"gt_test_02.txt\", sep=\"\\t\", header = None)\n",
    "(gt[gt[1]==\"X\"].reset_index(drop=True)).to_csv('../datasets/test/02/GTX.txt', header=False)"
   ]
  },
  {
   "cell_type": "code",
   "execution_count": 4,
   "id": "36a3f828",
   "metadata": {},
   "outputs": [],
   "source": [
    "filepath = \"../datasets/test/03\"\n",
    "filename = os.listdir(filepath)\n",
    "\n",
    "gt = pd.read_csv(filepath + \"/\" + \"gt_test_03.txt\", sep=\"\\t\", header = None)\n",
    "(gt[gt[1]==\"X\"].reset_index(drop=True)).to_csv('../datasets/test/03/GTX.txt', header=False)"
   ]
  }
 ],
 "metadata": {
  "kernelspec": {
   "display_name": "Python 3 (ipykernel)",
   "language": "python",
   "name": "python3"
  },
  "language_info": {
   "codemirror_mode": {
    "name": "ipython",
    "version": 3
   },
   "file_extension": ".py",
   "mimetype": "text/x-python",
   "name": "python",
   "nbconvert_exporter": "python",
   "pygments_lexer": "ipython3",
   "version": "3.9.7"
  }
 },
 "nbformat": 4,
 "nbformat_minor": 5
}
